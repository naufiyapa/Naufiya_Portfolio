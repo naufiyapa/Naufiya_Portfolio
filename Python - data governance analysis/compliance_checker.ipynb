{
 "cells": [
  {
   "cell_type": "markdown",
   "id": "c51768f8-3e6d-448d-be7e-e63c4c6d941e",
   "metadata": {},
   "source": [
    "🇨🇦 What PIPEDA Compliance Requires (Simplified):\n",
    "Limit access to personal data (PII)\n",
    "\n",
    "Track who accessed what & when (audit logs)\n",
    "\n",
    "Detect unauthorized access or oversharing of PII\n",
    "\n",
    "Report data exposure or policy violations\n",
    "\n",
    "What We’ll Simulate in Code:\n",
    "We'll create a compliance check script that:\n",
    "\n",
    "Flags access to PII by roles like interns or analysts\n",
    "\n",
    "Logs when an employee accesses a PII dataset\n",
    "\n",
    "Identifies if PII data is shared with external domains (e.g., fake logs)"
   ]
  },
  {
   "cell_type": "code",
   "execution_count": 20,
   "id": "fc30485e-eada-4fe6-a54b-3af8699af949",
   "metadata": {},
   "outputs": [
    {
     "name": "stdout",
     "output_type": "stream",
     "text": [
      "PII datasets: ['customers' 'employees']\n",
      "Violations report saved as pipeda_violations.csv\n"
     ]
    }
   ],
   "source": [
    "#step 1 load employee access and tagged data\n",
    "import pandas as pd\n",
    "#Load files\n",
    "employees = pd.read_csv('employees.csv')\n",
    "tagged = pd.read_csv('tagged_catalog.csv')\n",
    "\n",
    "#Define roles Not allowed to access PII\n",
    "restricted_roles = ['intern','analyst']\n",
    "\n",
    "#Get datasets that contain PII\n",
    "pii_datasets=tagged[tagged['data_classification']=='PII']['dataset_name'].unique()\n",
    "\n",
    "print(\"PII datasets:\", pii_datasets)\n",
    "\n",
    "#Step 2: Flag PIPEDA violations\n",
    "\n",
    "#function to checkfor PII access by restricted roles\n",
    "def check_pipeda_violation(row):\n",
    "    if row['dataset_name'] in pii_datasets and row['role'].lower() in restricted_roles:\n",
    "        return 'violation - Unauthorized PII Access'\n",
    "    return 'Compliant'\n",
    "\n",
    "# Apply to employees datasets\n",
    "employees['pipeda_flag'] = employees.apply(check_pipeda_violation,axis =1)\n",
    "\n",
    "#view violation\n",
    "violations = employees[employees['pipeda_flag'] != 'Compliant']\n",
    "violations\n",
    "\n",
    "violations.to_csv('pipeda_violations.csv', index=False)\n",
    "print(\"Violations report saved as pipeda_violations.csv\")\n"
   ]
  },
  {
   "cell_type": "code",
   "execution_count": null,
   "id": "c935b77b-2a95-4da8-9f6b-634918faf489",
   "metadata": {},
   "outputs": [],
   "source": []
  }
 ],
 "metadata": {
  "kernelspec": {
   "display_name": "Python 3 (ipykernel)",
   "language": "python",
   "name": "python3"
  },
  "language_info": {
   "codemirror_mode": {
    "name": "ipython",
    "version": 3
   },
   "file_extension": ".py",
   "mimetype": "text/x-python",
   "name": "python",
   "nbconvert_exporter": "python",
   "pygments_lexer": "ipython3",
   "version": "3.12.4"
  }
 },
 "nbformat": 4,
 "nbformat_minor": 5
}
