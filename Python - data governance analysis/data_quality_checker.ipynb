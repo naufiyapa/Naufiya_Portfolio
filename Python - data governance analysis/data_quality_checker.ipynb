{
 "cells": [
  {
   "cell_type": "markdown",
   "id": "37beba4f-b152-4b15-966b-394042e27911",
   "metadata": {},
   "source": [
    "This script will:\n",
    "Load each dataset (customers.csv, transactions.csv, etc.)\n",
    "\n",
    "Check for:\n",
    "\n",
    "❌ Missing values (null, NaN)\n",
    "\n",
    "❌ Duplicate rows\n",
    "\n",
    "❌ Invalid values (e.g., wrong date format or negative amounts)\n",
    "\n",
    "Save a quality report"
   ]
  },
  {
   "cell_type": "code",
   "execution_count": 1,
   "id": "62d36787-11f0-4843-8dbd-cde79b51cbf4",
   "metadata": {},
   "outputs": [
    {
     "name": "stdout",
     "output_type": "stream",
     "text": [
      "Data quality report saved as data_quality_report.csv\n"
     ]
    }
   ],
   "source": [
    "# Step 1: Import libraries and define file list\n",
    "import pandas as pd\n",
    "\n",
    "# listof dataset files to check\n",
    "files= ['customers.csv','transactions.csv','employees.csv','reports.csv']\n",
    "\n",
    "#create an empty list to collect result\n",
    "quality_report=[]\n",
    "\n",
    "# Step 2: Loop through each file and run checks\n",
    "for file in files:\n",
    "    try:\n",
    "        df = pd.read_csv(file)\n",
    "        dataset_name=file.replace('.csv','')\n",
    "\n",
    "        #basic checks\n",
    "        total_rows= len(df)\n",
    "        null_count= df.isnull().sum().sum()\n",
    "        duplicate_count = df.duplicated().sum()\n",
    "\n",
    "        #sample custom checks:\n",
    "        #for transaction :amount should be >0\n",
    "        invalid_amounts=0\n",
    "        if 'amount' in df.columns:\n",
    "            invalid_amounts = df[df['amount'] <=0].shape[0]\n",
    "\n",
    "        #for reports :total revenue should be >0\n",
    "        invalid_revenue =0\n",
    "        if 'total_revenue' in df.columns:\n",
    "            invalid_revenue = df[df['total_revenue'] <=0].shape[0]\n",
    "\n",
    "        #append results\n",
    "        quality_report.append({\n",
    "             'dataset': dataset_name,\n",
    "            'total_rows': total_rows,\n",
    "            'null_values': null_count,\n",
    "            'duplicate_rows': duplicate_count,\n",
    "            'invalid_amounts': invalid_amounts,\n",
    "            'invalid_revenue': invalid_revenue\n",
    "        })\n",
    "    except Exception as e:\n",
    "        print(f\"Failed to process{file}:{e}\")\n",
    "\n",
    "#Step 3: Save and show the report\n",
    "report_df = pd.DataFrame(quality_report)\n",
    "\n",
    "# Show in notebook\n",
    "report_df\n",
    "\n",
    "report_df.to_csv('data_quality_report.csv', index=False)\n",
    "print(\"Data quality report saved as data_quality_report.csv\")"
   ]
  }
 ],
 "metadata": {
  "kernelspec": {
   "display_name": "Python 3 (ipykernel)",
   "language": "python",
   "name": "python3"
  },
  "language_info": {
   "codemirror_mode": {
    "name": "ipython",
    "version": 3
   },
   "file_extension": ".py",
   "mimetype": "text/x-python",
   "name": "python",
   "nbconvert_exporter": "python",
   "pygments_lexer": "ipython3",
   "version": "3.12.4"
  }
 },
 "nbformat": 4,
 "nbformat_minor": 5
}
