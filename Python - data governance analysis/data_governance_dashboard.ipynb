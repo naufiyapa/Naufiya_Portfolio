{
 "cells": [
  {
   "cell_type": "code",
   "execution_count": 3,
   "id": "a1e623e6-c5c0-46c4-868e-7ec88c03cd66",
   "metadata": {},
   "outputs": [
    {
     "name": "stdout",
     "output_type": "stream",
     "text": [
      "Collecting dash\n",
      "  Using cached dash-3.1.1-py3-none-any.whl.metadata (10 kB)\n",
      "Requirement already satisfied: plotly in c:\\users\\naufi\\anaconda3\\lib\\site-packages (5.22.0)\n",
      "Requirement already satisfied: pandas in c:\\users\\naufi\\anaconda3\\lib\\site-packages (2.2.2)\n",
      "Requirement already satisfied: Flask<3.2,>=1.0.4 in c:\\users\\naufi\\anaconda3\\lib\\site-packages (from dash) (3.0.3)\n",
      "Requirement already satisfied: Werkzeug<3.2 in c:\\users\\naufi\\anaconda3\\lib\\site-packages (from dash) (3.0.3)\n",
      "Requirement already satisfied: importlib-metadata in c:\\users\\naufi\\anaconda3\\lib\\site-packages (from dash) (7.0.1)\n",
      "Requirement already satisfied: typing-extensions>=4.1.1 in c:\\users\\naufi\\anaconda3\\lib\\site-packages (from dash) (4.11.0)\n",
      "Requirement already satisfied: requests in c:\\users\\naufi\\anaconda3\\lib\\site-packages (from dash) (2.32.2)\n",
      "Collecting retrying (from dash)\n",
      "  Downloading retrying-1.4.0-py3-none-any.whl.metadata (7.5 kB)\n",
      "Requirement already satisfied: nest-asyncio in c:\\users\\naufi\\anaconda3\\lib\\site-packages (from dash) (1.6.0)\n",
      "Requirement already satisfied: setuptools in c:\\users\\naufi\\anaconda3\\lib\\site-packages (from dash) (69.5.1)\n",
      "Requirement already satisfied: tenacity>=6.2.0 in c:\\users\\naufi\\anaconda3\\lib\\site-packages (from plotly) (8.2.2)\n",
      "Requirement already satisfied: packaging in c:\\users\\naufi\\anaconda3\\lib\\site-packages (from plotly) (23.2)\n",
      "Requirement already satisfied: numpy>=1.26.0 in c:\\users\\naufi\\anaconda3\\lib\\site-packages (from pandas) (1.26.4)\n",
      "Requirement already satisfied: python-dateutil>=2.8.2 in c:\\users\\naufi\\anaconda3\\lib\\site-packages (from pandas) (2.9.0.post0)\n",
      "Requirement already satisfied: pytz>=2020.1 in c:\\users\\naufi\\anaconda3\\lib\\site-packages (from pandas) (2024.1)\n",
      "Requirement already satisfied: tzdata>=2022.7 in c:\\users\\naufi\\anaconda3\\lib\\site-packages (from pandas) (2023.3)\n",
      "Requirement already satisfied: Jinja2>=3.1.2 in c:\\users\\naufi\\anaconda3\\lib\\site-packages (from Flask<3.2,>=1.0.4->dash) (3.1.4)\n",
      "Requirement already satisfied: itsdangerous>=2.1.2 in c:\\users\\naufi\\anaconda3\\lib\\site-packages (from Flask<3.2,>=1.0.4->dash) (2.2.0)\n",
      "Requirement already satisfied: click>=8.1.3 in c:\\users\\naufi\\anaconda3\\lib\\site-packages (from Flask<3.2,>=1.0.4->dash) (8.1.7)\n",
      "Requirement already satisfied: blinker>=1.6.2 in c:\\users\\naufi\\anaconda3\\lib\\site-packages (from Flask<3.2,>=1.0.4->dash) (1.6.2)\n",
      "Requirement already satisfied: six>=1.5 in c:\\users\\naufi\\anaconda3\\lib\\site-packages (from python-dateutil>=2.8.2->pandas) (1.16.0)\n",
      "Requirement already satisfied: MarkupSafe>=2.1.1 in c:\\users\\naufi\\anaconda3\\lib\\site-packages (from Werkzeug<3.2->dash) (2.1.3)\n",
      "Requirement already satisfied: zipp>=0.5 in c:\\users\\naufi\\anaconda3\\lib\\site-packages (from importlib-metadata->dash) (3.17.0)\n",
      "Requirement already satisfied: charset-normalizer<4,>=2 in c:\\users\\naufi\\anaconda3\\lib\\site-packages (from requests->dash) (2.0.4)\n",
      "Requirement already satisfied: idna<4,>=2.5 in c:\\users\\naufi\\anaconda3\\lib\\site-packages (from requests->dash) (3.7)\n",
      "Requirement already satisfied: urllib3<3,>=1.21.1 in c:\\users\\naufi\\anaconda3\\lib\\site-packages (from requests->dash) (2.2.2)\n",
      "Requirement already satisfied: certifi>=2017.4.17 in c:\\users\\naufi\\anaconda3\\lib\\site-packages (from requests->dash) (2024.8.30)\n",
      "Requirement already satisfied: colorama in c:\\users\\naufi\\anaconda3\\lib\\site-packages (from click>=8.1.3->Flask<3.2,>=1.0.4->dash) (0.4.6)\n",
      "Downloading dash-3.1.1-py3-none-any.whl (7.9 MB)\n",
      "   ---------------------------------------- 0.0/7.9 MB ? eta -:--:--\n",
      "   ---------------------------------------- 0.0/7.9 MB 330.3 kB/s eta 0:00:24\n",
      "   - -------------------------------------- 0.2/7.9 MB 2.8 MB/s eta 0:00:03\n",
      "   --- ------------------------------------ 0.6/7.9 MB 4.8 MB/s eta 0:00:02\n",
      "   ----- ---------------------------------- 1.1/7.9 MB 6.5 MB/s eta 0:00:02\n",
      "   --------- ------------------------------ 1.9/7.9 MB 7.9 MB/s eta 0:00:01\n",
      "   -------------- ------------------------- 2.8/7.9 MB 9.8 MB/s eta 0:00:01\n",
      "   ------------------ --------------------- 3.6/7.9 MB 11.5 MB/s eta 0:00:01\n",
      "   ------------------------ --------------- 4.8/7.9 MB 13.5 MB/s eta 0:00:01\n",
      "   ----------------------------- ---------- 5.9/7.9 MB 15.0 MB/s eta 0:00:01\n",
      "   ------------------------------------ --- 7.2/7.9 MB 16.4 MB/s eta 0:00:01\n",
      "   ---------------------------------------- 7.9/7.9 MB 16.3 MB/s eta 0:00:00\n",
      "Downloading retrying-1.4.0-py3-none-any.whl (11 kB)\n",
      "Installing collected packages: retrying, dash\n",
      "Successfully installed dash-3.1.1 retrying-1.4.0\n",
      "Note: you may need to restart the kernel to use updated packages.\n"
     ]
    }
   ],
   "source": [
    "pip install dash plotly pandas"
   ]
  },
  {
   "cell_type": "code",
   "execution_count": 21,
   "id": "464f2c17-b96c-4841-942c-7758a5e741cf",
   "metadata": {},
   "outputs": [
    {
     "data": {
      "text/html": [
       "\n",
       "        <iframe\n",
       "            width=\"100%\"\n",
       "            height=\"650\"\n",
       "            src=\"http://127.0.0.1:8050/\"\n",
       "            frameborder=\"0\"\n",
       "            allowfullscreen\n",
       "            \n",
       "        ></iframe>\n",
       "        "
      ],
      "text/plain": [
       "<IPython.lib.display.IFrame at 0x24e8dd73dd0>"
      ]
     },
     "metadata": {},
     "output_type": "display_data"
    }
   ],
   "source": [
    "import pandas as pd\n",
    "import plotly.express as px\n",
    "from dash import Dash, dcc, html, dash_table\n",
    "\n",
    "#load data\n",
    "tagged = pd.read_csv(\"tagged_catalog.csv\")\n",
    "quality = pd.read_csv(\"data_quality_report.csv\")\n",
    "migration = pd.read_csv(\"cloud_migration_report.csv\")\n",
    "violations = pd.read_csv(\"pipeda_violations.csv\")\n",
    "\n",
    "#Start Dash app\n",
    "app = Dash(__name__)\n",
    "app.title = \"data Governance Dashboard\"\n",
    "\n",
    "#Data Classification chart\n",
    "classification_fig = px.histogram(tagged,x=\"data_classification\", \n",
    "                                  color=\"data_classification\",\n",
    "                                  title=\"Data classification count\")\n",
    "\n",
    "#data quality issues chart\n",
    "quality_fig = px.bar(\n",
    "    quality,\n",
    "    x=\"dataset\",\n",
    "    y=[\"null_values\", \n",
    "       \"duplicate_rows\", \n",
    "       \"invalid_amounts\", \n",
    "       \"invalid_revenue\"],\n",
    "    title=\"Data Quality Issues by Dataset\",\n",
    "    barmode = \"stack\"\n",
    ")\n",
    "\n",
    "#cloud migration status\n",
    "migration_fig = px.histogram(migration, \n",
    "                             x=\"migration_status\",\n",
    "                             color = \"migration_status\",\n",
    "                             title=\"Cloud Migration Status\")\n",
    "\n",
    "#Layout\n",
    "app.layout=html.Div([\n",
    "    html.H1(\"Data Governance Dashboard\", \n",
    "            style={'textAlign': 'center'}),\n",
    "\n",
    "    dcc.Graph(figure=classification_fig),\n",
    "    dcc.Graph(figure=quality_fig),\n",
    "    dcc.Graph(figure=migration_fig),\n",
    "\n",
    "    html.H2(\"PIPEDA violations\",style = {'marginTop':'30px'}),\n",
    "    dash_table.DataTable(\n",
    "        data=violations.to_dict('records'),\n",
    "        columns=[{\"name\":i,\"id\":i} for i in violations.columns],\n",
    "        style_table={'overflowX' : 'auto'},\n",
    "        style_cell={'textAlign':'left','padding' : '5px'},\n",
    "        page_size=10\n",
    "    )\n",
    "])\n",
    "#export to html file\n",
    "app.run(debug=False, port=8050)"
   ]
  },
  {
   "cell_type": "code",
   "execution_count": null,
   "id": "5f8c284b-4ee4-424c-aed7-3bfeb2ef172b",
   "metadata": {},
   "outputs": [],
   "source": []
  }
 ],
 "metadata": {
  "kernelspec": {
   "display_name": "Python 3 (ipykernel)",
   "language": "python",
   "name": "python3"
  },
  "language_info": {
   "codemirror_mode": {
    "name": "ipython",
    "version": 3
   },
   "file_extension": ".py",
   "mimetype": "text/x-python",
   "name": "python",
   "nbconvert_exporter": "python",
   "pygments_lexer": "ipython3",
   "version": "3.12.4"
  }
 },
 "nbformat": 4,
 "nbformat_minor": 5
}
