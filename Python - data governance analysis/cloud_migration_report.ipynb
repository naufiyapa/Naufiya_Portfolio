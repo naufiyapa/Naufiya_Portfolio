{
 "cells": [
  {
   "cell_type": "code",
   "execution_count": 1,
   "id": "56157f47-49a5-46d6-aa55-35d7cf9e0cf2",
   "metadata": {},
   "outputs": [
    {
     "name": "stdout",
     "output_type": "stream",
     "text": [
      "✅ cloud_migration_report.csv has been created!\n"
     ]
    },
    {
     "data": {
      "text/html": [
       "<div>\n",
       "<style scoped>\n",
       "    .dataframe tbody tr th:only-of-type {\n",
       "        vertical-align: middle;\n",
       "    }\n",
       "\n",
       "    .dataframe tbody tr th {\n",
       "        vertical-align: top;\n",
       "    }\n",
       "\n",
       "    .dataframe thead th {\n",
       "        text-align: right;\n",
       "    }\n",
       "</style>\n",
       "<table border=\"1\" class=\"dataframe\">\n",
       "  <thead>\n",
       "    <tr style=\"text-align: right;\">\n",
       "      <th></th>\n",
       "      <th>dataset_name</th>\n",
       "      <th>data_classification</th>\n",
       "      <th>encrypted</th>\n",
       "      <th>eligible_for_cloud</th>\n",
       "      <th>migration_status</th>\n",
       "      <th>reason</th>\n",
       "    </tr>\n",
       "  </thead>\n",
       "  <tbody>\n",
       "    <tr>\n",
       "      <th>0</th>\n",
       "      <td>customers</td>\n",
       "      <td>PII</td>\n",
       "      <td>No</td>\n",
       "      <td>No</td>\n",
       "      <td>Blocked</td>\n",
       "      <td>Needs encryption</td>\n",
       "    </tr>\n",
       "    <tr>\n",
       "      <th>1</th>\n",
       "      <td>transactions</td>\n",
       "      <td>Financial</td>\n",
       "      <td>Yes</td>\n",
       "      <td>Yes</td>\n",
       "      <td>Migrated</td>\n",
       "      <td>-</td>\n",
       "    </tr>\n",
       "    <tr>\n",
       "      <th>2</th>\n",
       "      <td>reports</td>\n",
       "      <td>General</td>\n",
       "      <td>-</td>\n",
       "      <td>Yes</td>\n",
       "      <td>Migrated</td>\n",
       "      <td>-</td>\n",
       "    </tr>\n",
       "    <tr>\n",
       "      <th>3</th>\n",
       "      <td>employees</td>\n",
       "      <td>PII</td>\n",
       "      <td>Yes</td>\n",
       "      <td>Yes</td>\n",
       "      <td>Migrated</td>\n",
       "      <td>-</td>\n",
       "    </tr>\n",
       "  </tbody>\n",
       "</table>\n",
       "</div>"
      ],
      "text/plain": [
       "   dataset_name data_classification encrypted eligible_for_cloud  \\\n",
       "0     customers                 PII        No                 No   \n",
       "1  transactions           Financial       Yes                Yes   \n",
       "2       reports             General         -                Yes   \n",
       "3     employees                 PII       Yes                Yes   \n",
       "\n",
       "  migration_status            reason  \n",
       "0          Blocked  Needs encryption  \n",
       "1         Migrated                 -  \n",
       "2         Migrated                 -  \n",
       "3         Migrated                 -  "
      ]
     },
     "execution_count": 1,
     "metadata": {},
     "output_type": "execute_result"
    }
   ],
   "source": [
    "import pandas as pd\n",
    "\n",
    "# Define simulated cloud migration report\n",
    "data = [\n",
    "    {\"dataset_name\": \"customers\", \"data_classification\": \"PII\", \"encrypted\": \"No\", \"eligible_for_cloud\": \"No\", \"migration_status\": \"Blocked\", \"reason\": \"Needs encryption\"},\n",
    "    {\"dataset_name\": \"transactions\", \"data_classification\": \"Financial\", \"encrypted\": \"Yes\", \"eligible_for_cloud\": \"Yes\", \"migration_status\": \"Migrated\", \"reason\": \"-\"},\n",
    "    {\"dataset_name\": \"reports\", \"data_classification\": \"General\", \"encrypted\": \"-\", \"eligible_for_cloud\": \"Yes\", \"migration_status\": \"Migrated\", \"reason\": \"-\"},\n",
    "    {\"dataset_name\": \"employees\", \"data_classification\": \"PII\", \"encrypted\": \"Yes\", \"eligible_for_cloud\": \"Yes\", \"migration_status\": \"Migrated\", \"reason\": \"-\"}\n",
    "]\n",
    "\n",
    "# Convert to DataFrame\n",
    "cloud_migration = pd.DataFrame(data)\n",
    "\n",
    "# Save to CSV\n",
    "cloud_migration.to_csv('cloud_migration_report.csv', index=False)\n",
    "\n",
    "print(\"✅ cloud_migration_report.csv has been created!\")\n",
    "cloud_migration"
   ]
  },
  {
   "cell_type": "code",
   "execution_count": null,
   "id": "3cfd08bb-3719-4986-998b-88afdc260cc6",
   "metadata": {},
   "outputs": [],
   "source": []
  }
 ],
 "metadata": {
  "kernelspec": {
   "display_name": "Python 3 (ipykernel)",
   "language": "python",
   "name": "python3"
  },
  "language_info": {
   "codemirror_mode": {
    "name": "ipython",
    "version": 3
   },
   "file_extension": ".py",
   "mimetype": "text/x-python",
   "name": "python",
   "nbconvert_exporter": "python",
   "pygments_lexer": "ipython3",
   "version": "3.12.4"
  }
 },
 "nbformat": 4,
 "nbformat_minor": 5
}
