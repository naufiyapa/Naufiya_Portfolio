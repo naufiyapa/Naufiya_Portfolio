{
 "cells": [
  {
   "cell_type": "code",
   "execution_count": 7,
   "id": "612aa444-9bc3-45c8-bf09-57ff562ec018",
   "metadata": {},
   "outputs": [
    {
     "name": "stdout",
     "output_type": "stream",
     "text": [
      "Tagging complete! Output saved to tagged_catalog.csv\n"
     ]
    }
   ],
   "source": [
    "import pandas as pd\n",
    "# step 1: load the metadata file\n",
    "metadata=pd.read_csv('datasets.csv')\n",
    "\n",
    "# step 2 : Define rules to tag column\n",
    "def tag_column(column_name):\n",
    "    col=column_name.lower()\n",
    "    if any(keyword in col for keyword in ['name','email','dob','date_of_birth','address','phone']):\n",
    "        return 'PII' #Personally identifiable information\n",
    "    elif any(keyword in col for keyword in ['amount', 'revenue','price','cost','total']):\n",
    "        return 'Financial'\n",
    "    elif any(keyword in col for keyword in ['id','transaction_id','customer_id','employee_id','report_id']):\n",
    "        return 'identifier'\n",
    "    else:\n",
    "        return 'General'\n",
    "\n",
    "#step 3 : apply tagging function to each column\n",
    "metadata['data_classification']=metadata['Column_name'].apply(tag_column)\n",
    "\n",
    "#step 4 : save the tagged catalog to new csv\n",
    "metadata.head()\n",
    "metadata.to_csv('tagged_catalog.csv', index=False)\n",
    "print(\"Tagging complete! Output saved to tagged_catalog.csv\")\n"
   ]
  },
  {
   "cell_type": "code",
   "execution_count": 5,
   "id": "11f4192a-4d78-4a35-a10a-bb4215dada51",
   "metadata": {},
   "outputs": [
    {
     "name": "stdout",
     "output_type": "stream",
     "text": [
      "['dataset_name', 'Column_name', 'sample_name']\n"
     ]
    }
   ],
   "source": [
    "print(metadata.columns.tolist())"
   ]
  },
  {
   "cell_type": "code",
   "execution_count": null,
   "id": "4fd7d215-8efc-4c7b-8f94-6c8ec6b02fc3",
   "metadata": {},
   "outputs": [],
   "source": []
  }
 ],
 "metadata": {
  "kernelspec": {
   "display_name": "Python 3 (ipykernel)",
   "language": "python",
   "name": "python3"
  },
  "language_info": {
   "codemirror_mode": {
    "name": "ipython",
    "version": 3
   },
   "file_extension": ".py",
   "mimetype": "text/x-python",
   "name": "python",
   "nbconvert_exporter": "python",
   "pygments_lexer": "ipython3",
   "version": "3.12.4"
  }
 },
 "nbformat": 4,
 "nbformat_minor": 5
}
